{
 "cells": [
  {
   "cell_type": "code",
   "execution_count": 86,
   "metadata": {},
   "outputs": [],
   "source": [
    "import numpy as np\n",
    "import pandas as pd\n",
    "import matplotlib.pyplot as plt\n",
    "import functools\n",
    "from qiskit import *\n",
    "from qiskit.tools.jupyter import *\n",
    "from qiskit.visualization import *\n",
    "from qiskit.circuit.library import *\n",
    "from qiskit.quantum_info import *\n",
    "from qiskit.result import *\n",
    "from qiskit.opflow import X,Y,Z,I,CX\n",
    "\n",
    "pi = np.pi\n",
    "sin = np.sin\n",
    "cos = np.cos\n",
    "exp = np.exp"
   ]
  },
  {
   "cell_type": "code",
   "execution_count": 87,
   "metadata": {},
   "outputs": [],
   "source": [
    "def toCircuit(operator): #Operator to gate\n",
    "    qubit_list = list(range(int(np.log(len(operator))/np.log(2)))) \n",
    "    toCircuit = QuantumCircuit(len(qubit_list))\n",
    "    toCircuit.unitary(operator,qubit_list)\n",
    "    return toCircuit\n"
   ]
  },
  {
   "cell_type": "code",
   "execution_count": 88,
   "metadata": {},
   "outputs": [],
   "source": [
    "def qpe1(w_qubits,s_qubits, gate, initial_state = None, trotter = 1):  \n",
    "    repetition=1\n",
    "    qpe1 = QuantumCircuit(w_qubits+s_qubits,w_qubits)\n",
    "    if (initial_state != None):\n",
    "        qpe1.initialize(initial_state,list(range(w_qubits,w_qubits+s_qubits))) \n",
    "    for i in range(w_qubits):\n",
    "        qpe1.h(i)\n",
    "    for i in range(trotter): \n",
    "        for counting_qubit in range(w_qubits):\n",
    "            for j in range(repetition):\n",
    "                qubit_list = [counting_qubit]+list(range(w_qubits,w_qubits+s_qubits))\n",
    "                qpe1.append(gate,qubit_list)\n",
    "            repetition *= 2\n",
    "        repetition = 1\n",
    "    qpe2 = QFT(w_qubits, 0, True , True) #inverse\n",
    "    l = [*range(w_qubits)]\n",
    "    qpe = qpe1.compose(qpe2, l)\n",
    "    return qpe"
   ]
  },
  {
   "cell_type": "code",
   "execution_count": 89,
   "metadata": {},
   "outputs": [],
   "source": [
    "def toEignevalue(count,t,n=1):\n",
    "    w_qubits = len(list(count.keys())[0])\n",
    "    list1 = []\n",
    "    if t == 0: \n",
    "        display(0)\n",
    "    else:\n",
    "        lists = sorted(count, key=count.get, reverse=True)[:n] \n",
    "        for j in range(len(lists)):\n",
    "            lists[j] =  int(str(lists[j]), 2) \n",
    "        for j in range(len(lists)):\n",
    "            list1.append((2*pi*(2**w_qubits - lists[j]))/((2**w_qubits)*t))\n",
    "            lists[j] = -2*pi*(lists[j])/((2**w_qubits)*t) \n",
    "        return lists,list1"
   ]
  },
  {
   "cell_type": "code",
   "execution_count": 90,
   "metadata": {},
   "outputs": [
    {
     "name": "stdout",
     "output_type": "stream",
     "text": [
      "eigenvalue: 1.5707963267948966\n"
     ]
    },
    {
     "data": {
      "image/png": "[encoded data removed]",
      "text/plain": [
       "<Figure size 504x360 with 1 Axes>"
      ]
     },
     "metadata": {},
     "output_type": "display_data"
    }
   ],
   "source": [
    "\n",
    "simulator = Aer.get_backend('qasm_simulator')\n",
    "trotter = 2\n",
    "t = 1 #time\n",
    "H = (-2*t/trotter*((X+X+X+X+X)^I))-(t/trotter*((Z^Z)+(Z^Z)+(Z^Z)+(Z^Z)))\n",
    "U = H.exp_i()\n",
    "U = U.to_matrix()\n",
    "H = H.to_matrix()\n",
    "w_qubits = 3\n",
    "s_qubits = 2\n",
    "\n",
    "initial_state = list(v[0])\n",
    "U_gate = toCircuit(U).to_gate(label = 'U').control(1) #defining U gate\n",
    "qpe = qpe1(w_qubits,s_qubits,U_gate,initial_state = initial_state,trotter=trotter)\n",
    "\n",
    "qpe.measure([0,1,2],[0,1,2])\n",
    "result = execute(qpe, backend=simulator, shots=8192).result()\n",
    "print('eigenvalue:', toEignevalue(count,t = 1)[1][0])\n",
    "counts = result.get_counts(qpe)\n",
    "display(plot_histogram(counts))"
   ]
  }
 ],
 "metadata": {
  "kernelspec": {
   "display_name": "Python 3.8.10 64-bit (microsoft store)",
   "language": "python",
   "name": "python3"
  },
  "language_info": {
   "codemirror_mode": {
    "name": "ipython",
    "version": 3
   },
   "file_extension": ".py",
   "mimetype": "text/x-python",
   "name": "python",
   "nbconvert_exporter": "python",
   "pygments_lexer": "ipython3",
   "version": "3.8.10"
  },
  "orig_nbformat": 4,
  "vscode": {
   "interpreter": {
    "hash": "8508c6b71dcbfb4df888bee0772683916aec004b18872f3dee3f775cd86fca2a"
   }
  }
 },
 "nbformat": 4,
 "nbformat_minor": 2
}
